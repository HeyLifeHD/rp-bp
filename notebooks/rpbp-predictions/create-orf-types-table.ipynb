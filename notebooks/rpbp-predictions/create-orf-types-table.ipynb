{
 "cells": [
  {
   "cell_type": "code",
   "execution_count": 1,
   "metadata": {
    "collapsed": true
   },
   "outputs": [],
   "source": [
    "%load_ext autoreload\n",
    "%autoreload 2\n",
    "%matplotlib inline\n",
    "\n",
    "from argparse import Namespace\n",
    "import pbio.misc.logging_utils as logging_utils\n",
    "\n",
    "args = Namespace()\n",
    "logger = logging_utils.get_ipython_logger()"
   ]
  },
  {
   "cell_type": "code",
   "execution_count": 22,
   "metadata": {},
   "outputs": [],
   "source": [
    "import matplotlib.pyplot as plt\n",
    "import numpy as np\n",
    "import pandas as pd\n",
    "import seaborn as sns; sns.set(style='white', color_codes=True)\n",
    "\n",
    "import os\n",
    "\n",
    "import pbio.ribo.ribo_utils as ribo_utils\n",
    "import pbio.ribo.ribo_filenames as filenames\n",
    "\n",
    "import pbio.utils.bed_utils as bed_utils\n",
    "import pbio.misc.parallel as parallel\n",
    "import pbio.misc.utils as utils\n",
    "import yaml"
   ]
  },
  {
   "cell_type": "code",
   "execution_count": 32,
   "metadata": {
    "collapsed": true
   },
   "outputs": [],
   "source": [
    "def get_orf_type_counts(name, is_single_sample, config, args):\n",
    "    \n",
    "    note_str = config.get('note', None)\n",
    "\n",
    "    # and the smoothing parameters\n",
    "    fraction = config.get('smoothing_fraction', None)\n",
    "    reweighting_iterations = config.get('smoothing_reweighting_iterations', None)\n",
    "\n",
    "    # keep multimappers?\n",
    "    is_unique = not ('keep_riboseq_multimappers' in config)\n",
    "    \n",
    "    if is_single_sample:\n",
    "        # otherwise, just treat things as normal\n",
    "        # get the lengths and offsets which meet the required criteria from \n",
    "        # the config file\n",
    "        \n",
    "        try:\n",
    "            lengths, offsets = ribo_utils.get_periodic_lengths_and_offsets(\n",
    "                config, \n",
    "                name,\n",
    "                is_unique=is_unique\n",
    "            )\n",
    "            \n",
    "        except FileNotFoundError:\n",
    "            msg = \"Could not find metagene periodicity file. Skipping. name: {}\".format(name,)\n",
    "            logger.warning(msg)\n",
    "            return None\n",
    "        \n",
    "    else:\n",
    "        # we will not use the lengths and offsets in the filenames\n",
    "        lengths = None\n",
    "        offsets = None\n",
    "        \n",
    "\n",
    "    predicted_orfs = filenames.get_riboseq_predicted_orfs(\n",
    "        config['riboseq_data'], \n",
    "        name, \n",
    "        length=lengths, \n",
    "        offset=offsets, \n",
    "        is_unique=is_unique, \n",
    "        note=note_str, \n",
    "        fraction=fraction, \n",
    "        reweighting_iterations=reweighting_iterations,\n",
    "        is_filtered=True, \n",
    "        is_chisq=False\n",
    "    )\n",
    "    \n",
    "    if not os.path.exists(predicted_orfs):\n",
    "        msg = \"Could not find predicted ORFs. name: {}. file: {}\".format(name, predicted_orfs)\n",
    "        logger.warning(msg)\n",
    "        return None\n",
    "    \n",
    "    bed = bed_utils.read_bed(predicted_orfs)\n",
    "\n",
    "    if args.use_groups:\n",
    "        bed['orf_type_group'] = bed['orf_type'].map(\n",
    "            ribo_utils.orf_type_labels_reverse_mapping)\n",
    "\n",
    "        orf_type_counts = bed.groupby(['orf_type_group', 'strand']).size()\n",
    "        orf_type_counts = orf_type_counts.reset_index(name=\"count\")\n",
    "        orf_type_counts['display_name'] = orf_type_counts['orf_type_group'].map(\n",
    "            ribo_utils.orf_type_labels_display_name_map)\n",
    "    else:\n",
    "        orf_type_counts = bed.groupby(['orf_type', 'strand']).size()\n",
    "        orf_type_counts = orf_type_counts.reset_index(name=\"count\")\n",
    "        orf_type_counts['display_name'] = orf_type_counts['orf_type'].map(\n",
    "            ribo_utils.orf_type_display_name_map)\n",
    "        \n",
    "    orf_type_counts['sample'] = name\n",
    "    return orf_type_counts\n"
   ]
  },
  {
   "cell_type": "code",
   "execution_count": 24,
   "metadata": {
    "collapsed": true
   },
   "outputs": [],
   "source": [
    "args.config = \"/prj/riechert-riboseq/analysis/config/control-plus-huebner.yaml\"\n",
    "args.use_groups = True\n",
    "\n",
    "config = yaml.load(open(args.config))"
   ]
  },
  {
   "cell_type": "code",
   "execution_count": 41,
   "metadata": {
    "scrolled": false
   },
   "outputs": [
    {
     "name": "stderr",
     "output_type": "stream",
     "text": [
      "WARNING  : Could not find metagene periodicity file. Skipping. name: sedentary-2wks-wt.riboseq.cell-type-cm.rep-453\n",
      "WARNING  : Could not find metagene periodicity file. Skipping. name: sedentary-2wks-wt.riboseq.cell-type-cm.rep-454\n",
      "WARNING  : Could not find metagene periodicity file. Skipping. name: sedentary.riboseq.cell-type-cm.rep-317\n",
      "WARNING  : Could not find metagene periodicity file. Skipping. name: sedentary.riboseq.cell-type-cm.rep-320\n",
      "WARNING  : Could not find metagene periodicity file. Skipping. name: sedentary.riboseq.cell-type-endo.rep-198\n",
      "WARNING  : Could not find metagene periodicity file. Skipping. name: sham-2wks-wt.riboseq.cell-type-cm.rep-542\n",
      "WARNING  : Could not find metagene periodicity file. Skipping. name: sham-2wks-wt.riboseq.cell-type-cm.rep-745\n",
      "WARNING  : Could not find metagene periodicity file. Skipping. name: sham-wt.riboseq.cell-type-cm.rep-403\n",
      "WARNING  : Could not find metagene periodicity file. Skipping. name: sham-wt.riboseq.cell-type-cm.rep-407\n",
      "WARNING  : Could not find metagene periodicity file. Skipping. name: bl6-wt-boston.riboseq.cell-type-lv.rep-1\n",
      "WARNING  : Could not find metagene periodicity file. Skipping. name: bl6-wt-boston.riboseq.cell-type-lv.rep-2\n",
      "WARNING  : Could not find metagene periodicity file. Skipping. name: bl6-wt-boston.riboseq.cell-type-lv.rep-3\n",
      "WARNING  : Could not find metagene periodicity file. Skipping. name: bl6-wt-signapore.riboseq.cell-type-lv.rep-1\n",
      "WARNING  : Could not find metagene periodicity file. Skipping. name: bl6-wt-signapore.riboseq.cell-type-lv.rep-2\n",
      "WARNING  : Could not find metagene periodicity file. Skipping. name: bl6-wt-signapore.riboseq.cell-type-lv.rep-3\n",
      "INFO     : Found 'riboseq_biological_replicates' key in config file\n",
      "/home/bmmalone/.virtualenvs/rpbp/lib/python3.6/site-packages/joblib/parallel.py:131: DtypeWarning: Columns (0,16) have mixed types. Specify dtype option on import or set low_memory=False.\n",
      "  return [func(*args, **kwargs) for func, args, kwargs in self.items]\n"
     ]
    }
   ],
   "source": [
    "is_single_sample = True\n",
    "single_sample_orf_types = parallel.apply_iter_simple(\n",
    "    config['riboseq_samples'].keys(),\n",
    "    get_orf_type_counts,\n",
    "    is_single_sample,\n",
    "    config,\n",
    "    args\n",
    ")\n",
    "single_sample_orf_types = utils.remove_nones(single_sample_orf_types)\n",
    "\n",
    "is_single_sample = False\n",
    "merged_sample_orf_types = parallel.apply_iter_simple(\n",
    "    ribo_utils.get_riboseq_replicates(config),\n",
    "    get_orf_type_counts,\n",
    "    is_single_sample,\n",
    "    config,\n",
    "    args\n",
    ")\n",
    "merged_sample_orf_types = utils.remove_nones(merged_sample_orf_types)\n",
    "\n",
    "sample_orf_types = single_sample_orf_types + merged_sample_orf_types\n",
    "sample_orf_types_df = pd.concat(sample_orf_types)"
   ]
  },
  {
   "cell_type": "code",
   "execution_count": 45,
   "metadata": {},
   "outputs": [
    {
     "data": {
      "text/html": [
       "<div>\n",
       "<table border=\"1\" class=\"dataframe\">\n",
       "  <thead>\n",
       "    <tr style=\"text-align: right;\">\n",
       "      <th></th>\n",
       "      <th>orf_type_group</th>\n",
       "      <th>strand</th>\n",
       "      <th>count</th>\n",
       "      <th>display_name</th>\n",
       "      <th>sample</th>\n",
       "      <th>sample_name</th>\n",
       "    </tr>\n",
       "  </thead>\n",
       "  <tbody>\n",
       "    <tr>\n",
       "      <th>0</th>\n",
       "      <td>canonical</td>\n",
       "      <td>+</td>\n",
       "      <td>2828</td>\n",
       "      <td>Canonical</td>\n",
       "      <td>sedentary-2wks-wt.riboseq.cell-type-cm</td>\n",
       "      <td>Sedentary, WT, 2 weeks, CMs, RPF</td>\n",
       "    </tr>\n",
       "    <tr>\n",
       "      <th>1</th>\n",
       "      <td>canonical</td>\n",
       "      <td>-</td>\n",
       "      <td>2818</td>\n",
       "      <td>Canonical</td>\n",
       "      <td>sedentary-2wks-wt.riboseq.cell-type-cm</td>\n",
       "      <td>Sedentary, WT, 2 weeks, CMs, RPF</td>\n",
       "    </tr>\n",
       "    <tr>\n",
       "      <th>2</th>\n",
       "      <td>canonical_variant</td>\n",
       "      <td>+</td>\n",
       "      <td>887</td>\n",
       "      <td>Canonical variant</td>\n",
       "      <td>sedentary-2wks-wt.riboseq.cell-type-cm</td>\n",
       "      <td>Sedentary, WT, 2 weeks, CMs, RPF</td>\n",
       "    </tr>\n",
       "    <tr>\n",
       "      <th>3</th>\n",
       "      <td>canonical_variant</td>\n",
       "      <td>-</td>\n",
       "      <td>868</td>\n",
       "      <td>Canonical variant</td>\n",
       "      <td>sedentary-2wks-wt.riboseq.cell-type-cm</td>\n",
       "      <td>Sedentary, WT, 2 weeks, CMs, RPF</td>\n",
       "    </tr>\n",
       "    <tr>\n",
       "      <th>4</th>\n",
       "      <td>five_prime</td>\n",
       "      <td>+</td>\n",
       "      <td>140</td>\n",
       "      <td>uORF</td>\n",
       "      <td>sedentary-2wks-wt.riboseq.cell-type-cm</td>\n",
       "      <td>Sedentary, WT, 2 weeks, CMs, RPF</td>\n",
       "    </tr>\n",
       "  </tbody>\n",
       "</table>\n",
       "</div>"
      ],
      "text/plain": [
       "      orf_type_group strand  count       display_name  \\\n",
       "0          canonical      +   2828          Canonical   \n",
       "1          canonical      -   2818          Canonical   \n",
       "2  canonical_variant      +    887  Canonical variant   \n",
       "3  canonical_variant      -    868  Canonical variant   \n",
       "4         five_prime      +    140               uORF   \n",
       "\n",
       "                                   sample                       sample_name  \n",
       "0  sedentary-2wks-wt.riboseq.cell-type-cm  Sedentary, WT, 2 weeks, CMs, RPF  \n",
       "1  sedentary-2wks-wt.riboseq.cell-type-cm  Sedentary, WT, 2 weeks, CMs, RPF  \n",
       "2  sedentary-2wks-wt.riboseq.cell-type-cm  Sedentary, WT, 2 weeks, CMs, RPF  \n",
       "3  sedentary-2wks-wt.riboseq.cell-type-cm  Sedentary, WT, 2 weeks, CMs, RPF  \n",
       "4  sedentary-2wks-wt.riboseq.cell-type-cm  Sedentary, WT, 2 weeks, CMs, RPF  "
      ]
     },
     "execution_count": 45,
     "metadata": {},
     "output_type": "execute_result"
    }
   ],
   "source": [
    "def get_name(sample, d):\n",
    "    return d[sample]\n",
    "\n",
    "sample_name_map = ribo_utils.get_sample_name_map(config)\n",
    "condition_name_map = ribo_utils.get_riboseq_condition_name_map(config)\n",
    "\n",
    "sample_names = sample_orf_types_df['sample']\n",
    "sample_names = parallel.apply_iter_simple(sample_names, get_name, sample_name_map)\n",
    "sample_names = parallel.apply_iter_simple(sample_names, get_name, condition_name_map)\n",
    "\n",
    "sample_orf_types_df['sample_name'] = sample_names\n",
    "sample_orf_types_df.head()"
   ]
  },
  {
   "cell_type": "code",
   "execution_count": 34,
   "metadata": {},
   "outputs": [
    {
     "data": {
      "text/html": [
       "<div>\n",
       "<table border=\"1\" class=\"dataframe\">\n",
       "  <thead>\n",
       "    <tr style=\"text-align: right;\">\n",
       "      <th></th>\n",
       "      <th>orf_type_group</th>\n",
       "      <th>strand</th>\n",
       "      <th>count</th>\n",
       "      <th>display_name</th>\n",
       "      <th>sample</th>\n",
       "    </tr>\n",
       "  </thead>\n",
       "  <tbody>\n",
       "    <tr>\n",
       "      <th>0</th>\n",
       "      <td>canonical</td>\n",
       "      <td>+</td>\n",
       "      <td>2828</td>\n",
       "      <td>Canonical</td>\n",
       "      <td>sedentary-2wks-wt.riboseq.cell-type-cm</td>\n",
       "    </tr>\n",
       "    <tr>\n",
       "      <th>1</th>\n",
       "      <td>canonical</td>\n",
       "      <td>-</td>\n",
       "      <td>2818</td>\n",
       "      <td>Canonical</td>\n",
       "      <td>sedentary-2wks-wt.riboseq.cell-type-cm</td>\n",
       "    </tr>\n",
       "    <tr>\n",
       "      <th>2</th>\n",
       "      <td>canonical_variant</td>\n",
       "      <td>+</td>\n",
       "      <td>887</td>\n",
       "      <td>Canonical variant</td>\n",
       "      <td>sedentary-2wks-wt.riboseq.cell-type-cm</td>\n",
       "    </tr>\n",
       "    <tr>\n",
       "      <th>3</th>\n",
       "      <td>canonical_variant</td>\n",
       "      <td>-</td>\n",
       "      <td>868</td>\n",
       "      <td>Canonical variant</td>\n",
       "      <td>sedentary-2wks-wt.riboseq.cell-type-cm</td>\n",
       "    </tr>\n",
       "    <tr>\n",
       "      <th>4</th>\n",
       "      <td>five_prime</td>\n",
       "      <td>+</td>\n",
       "      <td>140</td>\n",
       "      <td>uORF</td>\n",
       "      <td>sedentary-2wks-wt.riboseq.cell-type-cm</td>\n",
       "    </tr>\n",
       "  </tbody>\n",
       "</table>\n",
       "</div>"
      ],
      "text/plain": [
       "      orf_type_group strand  count       display_name  \\\n",
       "0          canonical      +   2828          Canonical   \n",
       "1          canonical      -   2818          Canonical   \n",
       "2  canonical_variant      +    887  Canonical variant   \n",
       "3  canonical_variant      -    868  Canonical variant   \n",
       "4         five_prime      +    140               uORF   \n",
       "\n",
       "                                   sample  \n",
       "0  sedentary-2wks-wt.riboseq.cell-type-cm  \n",
       "1  sedentary-2wks-wt.riboseq.cell-type-cm  \n",
       "2  sedentary-2wks-wt.riboseq.cell-type-cm  \n",
       "3  sedentary-2wks-wt.riboseq.cell-type-cm  \n",
       "4  sedentary-2wks-wt.riboseq.cell-type-cm  "
      ]
     },
     "execution_count": 34,
     "metadata": {},
     "output_type": "execute_result"
    }
   ],
   "source": [
    "sample_orf_types_df.head()"
   ]
  },
  {
   "cell_type": "code",
   "execution_count": 43,
   "metadata": {},
   "outputs": [
    {
     "data": {
      "text/plain": [
       "{'bl6-wt-boston.riboseq.cell-type-lv': 'BL6 - Boston, WT, LV, RPF',\n",
       " 'bl6-wt-signapore.riboseq.cell-type-lv': 'BL6 - Singapore, WT, LV, RPF',\n",
       " 'sedentary-2wks-wt.riboseq.cell-type-cm': 'Sedentary, WT, 2 weeks, CMs, RPF',\n",
       " 'sedentary.riboseq.cell-type-cm': 'Sedentary, WT, CMs, RPF',\n",
       " 'sham-2wks-wt.riboseq.cell-type-cm': 'Sham, WT, 2 weeks, CMs, RPF',\n",
       " 'sham-wt.riboseq.cell-type-cm': 'Sham, WT, CMs, RPF'}"
      ]
     },
     "execution_count": 43,
     "metadata": {},
     "output_type": "execute_result"
    }
   ],
   "source": [
    "ribo_utils.get_riboseq_condition_name_map(config)"
   ]
  },
  {
   "cell_type": "code",
   "execution_count": 40,
   "metadata": {},
   "outputs": [
    {
     "data": {
      "text/plain": [
       "'sedentary-2wks-wt.riboseq.cell-type-cm'"
      ]
     },
     "execution_count": 40,
     "metadata": {},
     "output_type": "execute_result"
    }
   ],
   "source": [
    "sample_name_map['sedentary-2wks-wt.riboseq.cell-type-cm']"
   ]
  },
  {
   "cell_type": "code",
   "execution_count": null,
   "metadata": {
    "collapsed": true
   },
   "outputs": [],
   "source": []
  }
 ],
 "metadata": {
  "kernelspec": {
   "display_name": "Python 3",
   "language": "python",
   "name": "python3"
  },
  "language_info": {
   "codemirror_mode": {
    "name": "ipython",
    "version": 3
   },
   "file_extension": ".py",
   "mimetype": "text/x-python",
   "name": "python",
   "nbconvert_exporter": "python",
   "pygments_lexer": "ipython3",
   "version": "3.6.1"
  }
 },
 "nbformat": 4,
 "nbformat_minor": 2
}
