{
 "cells": [
  {
   "cell_type": "code",
   "execution_count": 1,
   "metadata": {
    "collapsed": true
   },
   "outputs": [],
   "source": [
    "%load_ext autoreload\n",
    "%autoreload 2\n",
    "\n",
    "%matplotlib inline"
   ]
  },
  {
   "cell_type": "code",
   "execution_count": 12,
   "metadata": {
    "collapsed": true
   },
   "outputs": [],
   "source": [
    "from argparse import Namespace\n",
    "import matplotlib\n",
    "import matplotlib.pyplot as plt\n",
    "import numpy as np\n",
    "\n",
    "import pbio.misc.mpl_utils as mpl_utils\n",
    "import pbio.misc.math_utils as math_utils\n",
    "\n",
    "import pickle\n",
    "\n",
    "import pbio.misc.logging_utils as logging_utils"
   ]
  },
  {
   "cell_type": "code",
   "execution_count": 3,
   "metadata": {
    "collapsed": true
   },
   "outputs": [],
   "source": [
    "args = Namespace()\n",
    "logger = logging_utils.get_ipython_logger()"
   ]
  },
  {
   "cell_type": "code",
   "execution_count": 40,
   "metadata": {
    "collapsed": true
   },
   "outputs": [],
   "source": [
    "args.model = \"/prj/rpbp-paper/RPF/orf-predictions/plots/hek293.subcodon-clusters.pkl\"\n",
    "args.out = \"/prj/rpbp-paper/RPF/orf-predictions/plots/hek293.subcodon-clusters.pdf\"\n",
    "\n",
    "args.title = \"HEK293\"\n",
    "args.min_weight = 0.001\n",
    "args.log = True"
   ]
  },
  {
   "cell_type": "code",
   "execution_count": 5,
   "metadata": {
    "collapsed": false
   },
   "outputs": [
    {
     "name": "stderr",
     "output_type": "stream",
     "text": [
      "INFO     : Reading model pickle file\n"
     ]
    }
   ],
   "source": [
    "msg = \"Reading model pickle file\"\n",
    "logger.info(msg)\n",
    "\n",
    "model_pkl = pickle.load(open(args.model, 'rb'))"
   ]
  },
  {
   "cell_type": "code",
   "execution_count": 6,
   "metadata": {
    "collapsed": false
   },
   "outputs": [
    {
     "name": "stderr",
     "output_type": "stream",
     "text": [
      "INFO     : Extracting clusters with minimum weight\n"
     ]
    }
   ],
   "source": [
    "msg = \"Extracting clusters with minimum weight\"\n",
    "logger.info(msg)\n",
    "\n",
    "it = enumerate(zip(model_pkl[0], model_pkl[1]))\n",
    "\n",
    "periodic_clusters = []\n",
    "\n",
    "total_weight = 0\n",
    "for i, (m, w) in it:\n",
    "    if w > args.min_weight:        \n",
    "        total_weight += w\n",
    "        periodic_clusters.append(i)"
   ]
  },
  {
   "cell_type": "code",
   "execution_count": 34,
   "metadata": {
    "collapsed": false
   },
   "outputs": [
    {
     "name": "stderr",
     "output_type": "stream",
     "text": [
      "INFO     : Finding linear best fit line\n"
     ]
    }
   ],
   "source": [
    "msg = \"Finding linear best fit line\"\n",
    "logger.info(msg)\n",
    "\n",
    "c = model_pkl[0][periodic_clusters, 0]\n",
    "x = model_pkl[0][periodic_clusters, 1]\n",
    "y = model_pkl[0][periodic_clusters, 2]\n",
    "s = model_pkl[1][periodic_clusters]\n",
    "\n",
    "fit = math_utils.fit_with_least_squares(x, y, w=s)\n",
    "(slope, intercept, power, r_sqr) = fit"
   ]
  },
  {
   "cell_type": "code",
   "execution_count": 43,
   "metadata": {
    "collapsed": false
   },
   "outputs": [
    {
     "name": "stderr",
     "output_type": "stream",
     "text": [
      "INFO     : Plotting clusters\n",
      "DEBUG    : x=[    8.35425262    36.61205721    41.99155113    91.73912656   114.94530738\n",
      "   146.85563691   148.95988707   158.15413463   186.77243878   229.7775628\n",
      "   268.3534197    363.84677024   367.2383792    375.19984095   382.36491975\n",
      "   410.20124072   449.30501982   494.38274815   503.21981717   561.64064093\n",
      "   603.29406929   605.79902861   623.48746286   708.86940801   708.88802704\n",
      "   845.00577441   978.13884094   987.03590025  1025.79384567  1225.57752826\n",
      "  1372.21324188  1444.99931024  1515.56935758  1756.18398209  1818.88059479\n",
      "  2526.46629057  2704.11190792]\n",
      "DEBUG    : y=[   99.34380597   142.19829021   150.35658278   225.80146318   260.99488761\n",
      "   309.38862285   312.57983167   326.52340383   369.9246051    435.14419439\n",
      "   493.64656128   638.4673761    643.61093395   655.68491996   666.55114829\n",
      "   708.76642989   768.06941926   836.43222474   849.83411637   938.43244549\n",
      "  1001.60211543  1005.4010213   1032.22648556  1161.71280894  1161.74104569\n",
      "  1368.17094866  1570.07442221  1583.56729236  1642.34580631  1945.32853274\n",
      "  2167.70949864  2278.09349571  2385.11677744  2750.02182877  2845.10462236\n",
      "  3918.19648105  4187.6056379 ]\n",
      "INFO     : Writing the plot to disk\n"
     ]
    },
    {
     "data": {
      "image/png": "[encoded data removed]",
      "text/plain": [
       "<matplotlib.figure.Figure at 0x7f434c7147b8>"
      ]
     },
     "metadata": {},
     "output_type": "display_data"
    }
   ],
   "source": [
    "msg = \"Plotting clusters\"\n",
    "logger.info(msg)\n",
    "\n",
    "min_val = min(min(x), min(y)) * 0.8\n",
    "max_val = max(max(x), max(y)) * 1.2\n",
    "lim = (min_val, max_val)\n",
    "\n",
    "fig, ax = plt.subplots()\n",
    "\n",
    "# axes and labels and things\n",
    "ax.set_aspect('equal')\n",
    "ax.set_xlabel(\"Frame +1\")\n",
    "ax.set_ylabel(\"Frame +2\")\n",
    "\n",
    "ax.set_xlim(lim)\n",
    "ax.set_ylim(lim)\n",
    "\n",
    "if args.log:\n",
    "    ax.set_xscale('log')\n",
    "    ax.set_yscale('log')\n",
    "\n",
    "cm = plt.cm.Blues\n",
    "\n",
    "norm = None\n",
    "if args.log:\n",
    "    norm=matplotlib.colors.LogNorm()\n",
    "    \n",
    "sc = ax.scatter(x, y, c=c, cmap=cm, s=s*1000, norm=norm)\n",
    "cb = plt.colorbar(sc, ax=ax)\n",
    "cb.set_label(\"In-frame\")\n",
    "\n",
    "text = \"Accounts for {:.0%} of likelihood\".format(total_weight)\n",
    "ax.annotate(text, (0.25,0.75), xycoords='axes fraction')\n",
    "\n",
    "# draw the fit line\n",
    "mpl_utils.plot_trend_line(ax, x, intercept, slope, power)\n",
    "\n",
    "# write the fit information\n",
    "rsqr_str = \"$R^2$ = {:.2f}\".format(r_sqr)\n",
    "slope_str = \"slope = {:.2f}\".format(slope)\n",
    "intercept_str = \"intercept = {:.2f}\".format(intercept)\n",
    "strs = [rsqr_str, slope_str, intercept_str]\n",
    "text = '\\n'.join(strs)\n",
    "\n",
    "ax.annotate(text, (0.55, 0.15), xycoords='axes fraction')\n",
    "\n",
    "if len(args.title) > 0:\n",
    "    ax.set_title(args.title)\n",
    "    \n",
    "msg = \"Writing the plot to disk\"\n",
    "logger.info(msg)\n",
    "    \n",
    "#fig.savefig(args.out)"
   ]
  },
  {
   "cell_type": "code",
   "execution_count": 33,
   "metadata": {
    "collapsed": false
   },
   "outputs": [
    {
     "data": {
      "text/plain": [
       "(array([ 1025.79384567,   367.2383792 ,   410.20124072,   363.84677024,\n",
       "          978.13884094,  1225.57752826,   503.21981717,   158.15413463,\n",
       "            8.35425262,   561.64064093,  1444.99931024,  1372.21324188,\n",
       "         1515.56935758,   603.29406929,   605.79902861,   114.94530738,\n",
       "          146.85563691,   148.95988707,  2704.11190792,   268.3534197 ,\n",
       "          623.48746286,   382.36491975,  1818.88059479,   708.88802704,\n",
       "           41.99155113,   987.03590025,   186.77243878,   494.38274815,\n",
       "          708.86940801,   229.7775628 ,    91.73912656,   845.00577441,\n",
       "          449.30501982,  2526.46629057,   375.19984095,  1756.18398209,\n",
       "           36.61205721]),\n",
       " array([ 1748.1631928 ,   439.83428331,  1931.20890536,   584.8595453 ,\n",
       "         1464.55707489,  1638.58706183,    93.0967025 ,   226.21378547,\n",
       "           47.94173623,   872.34224905,  1891.6629421 ,  2303.27227117,\n",
       "          236.69161977,   793.28305485,   928.95269527,   385.1617974 ,\n",
       "           22.15980451,   742.64940726,  4184.71330905,   382.83643839,\n",
       "         1059.58348769,   633.35900795,  2718.16348414,   373.78108758,\n",
       "          225.59865319,  4214.63180663,   321.9640036 ,  1649.28418934,\n",
       "          766.85007066,   761.24804086,   147.36457994,  1355.37439097,\n",
       "         1032.05608424,  4001.37795916,   252.56201875,  2758.91576323,\n",
       "           55.88747907]))"
      ]
     },
     "execution_count": 33,
     "metadata": {},
     "output_type": "execute_result"
    }
   ],
   "source": [
    "x, y"
   ]
  },
  {
   "cell_type": "code",
   "execution_count": null,
   "metadata": {
    "collapsed": true
   },
   "outputs": [],
   "source": []
  }
 ],
 "metadata": {
  "kernelspec": {
   "display_name": "Python 3",
   "language": "python",
   "name": "python3"
  },
  "language_info": {
   "codemirror_mode": {
    "name": "ipython",
    "version": 3
   },
   "file_extension": ".py",
   "mimetype": "text/x-python",
   "name": "python",
   "nbconvert_exporter": "python",
   "pygments_lexer": "ipython3",
   "version": "3.5.0"
  }
 },
 "nbformat": 4,
 "nbformat_minor": 0
}
